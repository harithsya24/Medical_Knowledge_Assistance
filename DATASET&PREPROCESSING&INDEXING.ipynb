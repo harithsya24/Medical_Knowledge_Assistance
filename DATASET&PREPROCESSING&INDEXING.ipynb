{
  "nbformat": 4,
  "nbformat_minor": 0,
  "metadata": {
    "colab": {
      "provenance": []
    },
    "kernelspec": {
      "name": "python3",
      "display_name": "Python 3"
    },
    "language_info": {
      "name": "python"
    }
  },
  "cells": [
    {
      "cell_type": "code",
      "source": [
        "import requests\n",
        "from bs4 import BeautifulSoup\n",
        "from google.colab import drive\n",
        "import os\n",
        "import string\n",
        "import nltk\n",
        "from nltk.corpus import stopwords\n",
        "from nltk.tokenize import word_tokenize\n",
        "from nltk.stem import PorterStemmer\n",
        "import fitz\n",
        "import faiss\n",
        "import numpy as np\n",
        "import json\n",
        "from tqdm import tqdm, trange\n",
        "from sentence_transformers import SentenceTransformer"
      ],
      "metadata": {
        "id": "nzuHwhdTiAMl",
        "colab": {
          "base_uri": "https://localhost:8080/"
        },
        "outputId": "78942a82-deea-482c-86a2-a3fb9f8e19f2"
      },
      "execution_count": 1,
      "outputs": [
        {
          "output_type": "stream",
          "name": "stderr",
          "text": [
            "/usr/local/lib/python3.10/dist-packages/sentence_transformers/cross_encoder/CrossEncoder.py:13: TqdmExperimentalWarning: Using `tqdm.autonotebook.tqdm` in notebook mode. Use `tqdm.tqdm` instead to force console mode (e.g. in jupyter console)\n",
            "  from tqdm.autonotebook import tqdm, trange\n"
          ]
        }
      ]
    },
    {
      "cell_type": "code",
      "source": [
        "drive.mount('/content/drive')"
      ],
      "metadata": {
        "colab": {
          "base_uri": "https://localhost:8080/"
        },
        "id": "3Eoj6EciyNM9",
        "outputId": "f637f513-da97-4d59-afcb-4a429ef9923d"
      },
      "execution_count": 2,
      "outputs": [
        {
          "output_type": "stream",
          "name": "stdout",
          "text": [
            "Drive already mounted at /content/drive; to attempt to forcibly remount, call drive.mount(\"/content/drive\", force_remount=True).\n"
          ]
        }
      ]
    },
    {
      "cell_type": "code",
      "source": [
        "nltk.download('punkt')\n",
        "nltk.download('stopwords')"
      ],
      "metadata": {
        "colab": {
          "base_uri": "https://localhost:8080/"
        },
        "id": "-fNQ3poM0D0z",
        "outputId": "b8a09d96-0640-43b4-dfce-5354c63761fb"
      },
      "execution_count": 3,
      "outputs": [
        {
          "output_type": "stream",
          "name": "stderr",
          "text": [
            "[nltk_data] Downloading package punkt to /root/nltk_data...\n",
            "[nltk_data]   Package punkt is already up-to-date!\n",
            "[nltk_data] Downloading package stopwords to /root/nltk_data...\n",
            "[nltk_data]   Package stopwords is already up-to-date!\n"
          ]
        },
        {
          "output_type": "execute_result",
          "data": {
            "text/plain": [
              "True"
            ]
          },
          "metadata": {},
          "execution_count": 3
        }
      ]
    },
    {
      "cell_type": "markdown",
      "source": [
        "***PRE-PROCESSING***"
      ],
      "metadata": {
        "id": "aU8WGChxbFwH"
      }
    },
    {
      "cell_type": "markdown",
      "source": [
        "Disease"
      ],
      "metadata": {
        "id": "ixkLLFL8heU6"
      }
    },
    {
      "cell_type": "markdown",
      "source": [
        "**Common Diseases**\n",
        "Diabetes Mellitus\n",
        "Hypertension (High Blood Pressure)\n",
        "Asthma\n",
        "Chronic Obstructive Pulmonary Disease (COPD)\n",
        "Heart Disease (Coronary Artery Disease)\n",
        "Stroke\n",
        "Cancer (various types)\n",
        "HIV/AIDS\n",
        "Alzheimer's Disease\n",
        "Arthritis (Rheumatoid and Osteoarthritis)\n",
        "**Infectious Diseases**\n",
        "Influenza\n",
        "Tuberculosis\n",
        "COVID-19\n",
        "Hepatitis (A, B, C)\n",
        "Malaria\n",
        "Measles\n",
        "Chickenpox\n",
        "Pneumonia\n",
        "Ebola Virus Disease\n",
        "Zika Virus\n",
        "**Autoimmune Diseases**\n",
        "Multiple Sclerosis\n",
        "Systemic Lupus Erythematosus (Lupus)\n",
        "Type 1 Diabetes\n",
        "Hashimoto's Thyroiditis\n",
        "Celiac Disease\n",
        "Graves' Disease\n",
        "Psoriasis\n",
        "Crohn's Disease\n",
        "Ulcerative Colitis\n",
        "Rheumatoid Arthritis\n",
        "**Mental Health Disorders**\n",
        "Depression\n",
        "Anxiety Disorders (Generalized Anxiety Disorder, Panic Disorder)\n",
        "Bipolar Disorder\n",
        "Schizophrenia\n",
        "Obsessive-Compulsive Disorder (OCD)\n",
        "Post-Traumatic Stress Disorder (PTSD)\n",
        "Attention-Deficit/Hyperactivity Disorder (ADHD)\n",
        "Autism Spectrum Disorders\n",
        "Eating Disorders (Anorexia, Bulimia)\n",
        "Personality Disorders\n",
        "**Rare Diseases**\n",
        "Cystic Fibrosis\n",
        "Sickle Cell Disease\n",
        "Huntington's Disease\n",
        "Amyotrophic Lateral Sclerosis (ALS)\n",
        "Tourette Syndrome\n",
        "Fibrodysplasia Ossificans Progressiva\n",
        "Pompe Disease\n",
        "Hemophilia\n",
        "Marfan Syndrome\n",
        "Wilson's Disease\n",
        "**Chronic Diseases**\n",
        "Chronic Kidney Disease\n",
        "Chronic Liver Disease (Cirrhosis)\n",
        "Osteoporosis\n",
        "Gout\n",
        "Fibromyalgia\n",
        "Chronic Fatigue Syndrome\n",
        "Irritable Bowel Syndrome (IBS)\n",
        "Sleep Apnea\n",
        "Chronic Migraines\n",
        "Non-Alcoholic Fatty Liver Disease (NAFLD)"
      ],
      "metadata": {
        "id": "qVwT7Iatko2u"
      }
    },
    {
      "cell_type": "code",
      "execution_count": 4,
      "metadata": {
        "id": "QVk7oi5shYhs"
      },
      "outputs": [],
      "source": [
        "#Urls for above mentioned diseases\n",
        "disease_urls = [\n",
        "    'https://www.mayoclinic.org/diseases-conditions/diabetes/symptoms-causes/syc-20371444#:~:text=Diabetes%20mellitus%20refers%20to%20a,of%20diabetes%20varies%20by%20type.',\n",
        "    'https://www.mayoclinic.org/diseases-conditions/high-blood-pressure/symptoms-causes/syc-20373410',\n",
        "    'https://www.mayoclinic.org/diseases-conditions/asthma/symptoms-causes/syc-20369653',\n",
        "    'https://www.mayoclinic.org/diseases-conditions/copd/symptoms-causes/syc-20353679',\n",
        "    'https://www.mayoclinic.org/diseases-conditions/coronary-artery-disease/symptoms-causes/syc-20350613#:~:text=CAD%20happens%20when%20coronary%20arteries,or%20even%20a%20heart%20attack.',\n",
        "    'https://www.mayoclinic.org/diseases-conditions/stroke/symptoms-causes/syc-20350113',\n",
        "    'https://stanfordhealthcare.org/medical-conditions/cancer/cancer/cancer-types.html',\n",
        "    'https://www.mayoclinic.org/diseases-conditions/hiv-aids/symptoms-causes/syc-20373524',\n",
        "    'https://www.mayoclinic.org/diseases-conditions/alzheimers-disease/symptoms-causes/syc-20350447',\n",
        "    'https://www.jnj.com/health-and-wellness/arthritis-3-main-types-rheumatoid-psoriatic-osteoarthritis',\n",
        "    'https://www.cdc.gov/flu/index.html',\n",
        "    'https://www.mayoclinic.org/diseases-conditions/tuberculosis/symptoms-causes/syc-20351250',\n",
        "    'https://en.wikipedia.org/wiki/COVID-19',\n",
        "    'https://www.cdc.gov/hepatitis/about/index.html',\n",
        "    'https://www.who.int/news-room/fact-sheets/detail/malaria#:~:text=Malaria%20is%20a%20life%2Dthreatening,spread%20from%20person%20to%20person.',\n",
        "    'https://www.who.int/news-room/fact-sheets/detail/measles#:~:text=Measles%20infects%20the%20respiratory%20tract,body%20fight%20off%20the%20virus.',\n",
        "    'https://www.cdc.gov/chickenpox/about/index.html#:~:text=Chickenpox%20is%20a%20highly%20contagious%20disease%20caused%20by%20varicella%2Dzoster,chickenpox%20will%20also%20get%20infected.',\n",
        "    'https://www.mayoclinic.org/diseases-conditions/pneumonia/symptoms-causes/syc-20354204#:~:text=Pneumonia%20is%20an%20infection%20that,and%20fungi%2C%20can%20cause%20pneumonia.',\n",
        "    'https://www.who.int/news-room/fact-sheets/detail/ebola-virus-disease',\n",
        "    'https://www.who.int/news-room/fact-sheets/detail/zika-virus',\n",
        "    'https://www.hopkinsmedicine.org/health/conditions-and-diseases/multiple-sclerosis-ms#:~:text=Multiple%20sclerosis%20(MS)%20is%20a%20chronic%20disease%20of%20the%20central,trouble%20walking%2C%20and%20tingling%20feelings.',\n",
        "    'https://www.niams.nih.gov/health-topics/lupus#:~:text=Systemic%20lupus%20erythematosus%20(lupus)%20is,disease%2C%20attacks%20its%20own%20tissues.',\n",
        "    'https://www.mayoclinic.org/diseases-conditions/type-1-diabetes/symptoms-causes/syc-20353011',\n",
        "    'https://www.mayoclinic.org/diseases-conditions/hashimotos-disease/symptoms-causes/syc-20351855',\n",
        "    'https://www.mayoclinic.org/diseases-conditions/celiac-disease/symptoms-causes/syc-20352220',\n",
        "    'https://www.mayoclinic.org/diseases-conditions/graves-disease/symptoms-causes/syc-20356240',\n",
        "    'https://www.psoriasis.org/about-psoriasis/',\n",
        "    'https://en.wikipedia.org/wiki/Crohn%27s_disease',\n",
        "    'https://en.wikipedia.org/wiki/Ulcerative_colitis',\n",
        "    'https://en.wikipedia.org/wiki/Rheumatoid_arthritis',\n",
        "    'https://en.wikipedia.org/wiki/Depression_(mood)',\n",
        "    'https://en.wikipedia.org/wiki/Generalized_anxiety_disorder','https://en.wikipedia.org/wiki/Panic_disorder',\n",
        "    'https://en.wikipedia.org/wiki/Bipolar_disorder','https://en.wikipedia.org/wiki/Schizophrenia',\n",
        "    'https://en.wikipedia.org/wiki/Obsessive%E2%80%93compulsive_disorder','https://www.mayoclinic.org/diseases-conditions/post-traumatic-stress-disorder/symptoms-causes/syc-20355967',\n",
        "    'https://en.wikipedia.org/wiki/Attention_deficit_hyperactivity_disorder',\n",
        "    'https://en.wikipedia.org/wiki/Autism','https://en.wikipedia.org/wiki/Anorexia_nervosa','https://en.wikipedia.org/wiki/Bulimia_nervosa',\n",
        "    'https://en.wikipedia.org/wiki/Personality_disorder','https://www.mayoclinic.org/diseases-conditions/cystic-fibrosis/symptoms-causes/syc-20353700',\n",
        "    'https://www.mayoclinic.org/diseases-conditions/sickle-cell-anemia/symptoms-causes/syc-20355876','https://www.mayoclinic.org/diseases-conditions/huntingtons-disease/symptoms-causes/syc-20356117',\n",
        "    'https://www.mayoclinic.org/diseases-conditions/amyotrophic-lateral-sclerosis/symptoms-causes/syc-20354022',\n",
        "    'https://www.mayoclinic.org/diseases-conditions/tourette-syndrome/symptoms-causes/syc-20350465',\n",
        "    'https://en.wikipedia.org/wiki/Fibrodysplasia_ossificans_progressiva','https://my.clevelandclinic.org/health/diseases/15808-pompe-disease',\n",
        "    'https://www.mayoclinic.org/diseases-conditions/hemophilia/symptoms-causes/syc-20373327',\n",
        "    'https://www.mayoclinic.org/diseases-conditions/marfan-syndrome/symptoms-causes/syc-20350782#:~:text=Marfan%20syndrome%20most%20commonly%20affects,can%20be%20mild%20or%20severe.',\n",
        "    'https://my.clevelandclinic.org/health/diseases/5957-wilson-disease',\n",
        "    'https://www.mayoclinic.org/diseases-conditions/chronic-kidney-disease/symptoms-causes/syc-20354521',\n",
        "    'https://my.clevelandclinic.org/health/diseases/15572-cirrhosis-of-the-liver',\n",
        "    'https://www.niams.nih.gov/health-topics/osteoporosis','https://my.clevelandclinic.org/health/diseases/4755-gout',\n",
        "    'https://www.niams.nih.gov/health-topics/fibromyalgia','https://www.mayoclinic.org/diseases-conditions/chronic-fatigue-syndrome/symptoms-causes/syc-20360490#:~:text=Myalgic%20encephalomyelitis%2Fchronic%20fatigue%20syndrome%20(ME%2FCFS)%20is,although%20there%20are%20many%20theories.',\n",
        "    'https://my.clevelandclinic.org/health/diseases/4342-irritable-bowel-syndrome-ibs',\n",
        "    'https://www.mayoclinic.org/diseases-conditions/sleep-apnea/symptoms-causes/syc-20377631',\n",
        "    'https://www.mayoclinic.org/diseases-conditions/migraine-headache/symptoms-causes/syc-20360201',\n",
        "    'https://www.nhs.uk/conditions/non-alcoholic-fatty-liver-disease/#:~:text=Non%2Dalcoholic%20fatty%20liver%20disease%20(NAFLD)%20is%20the%20term,cirrhosis%2C%20if%20it%20gets%20worse.']\n",
        "\n"
      ]
    },
    {
      "cell_type": "code",
      "source": [
        "#Webscrapping the websites\n",
        "output_directory = '/content/drive/MyDrive/Medical_Data/Disease'\n",
        "os.makedirs(output_directory, exist_ok=True)\n",
        "\n",
        "def save_text_from_url(url, filename):\n",
        "    try:\n",
        "        response = requests.get(url)\n",
        "        response.raise_for_status()\n",
        "        soup = BeautifulSoup(response.content, 'html.parser')\n",
        "        text = soup.get_text(separator='\\n')\n",
        "        with open(os.path.join(output_directory, filename), 'w', encoding='utf-8') as f:\n",
        "            f.write(text)\n",
        "\n",
        "        print(f\"Saved: {filename}\")\n",
        "\n",
        "    except Exception as e:\n",
        "        print(f\"Error saving {filename}: {e}\")\n",
        "\n",
        "for i, url in enumerate(disease_urls):\n",
        "    save_text_from_url(url, f'disease_info_{i}.txt')\n"
      ],
      "metadata": {
        "colab": {
          "base_uri": "https://localhost:8080/"
        },
        "id": "ty22PvT_vKv0",
        "outputId": "bfcb8ec8-337c-4427-a8a3-faf84b05684e"
      },
      "execution_count": 5,
      "outputs": [
        {
          "output_type": "stream",
          "name": "stdout",
          "text": [
            "Saved: disease_info_0.txt\n",
            "Saved: disease_info_1.txt\n",
            "Saved: disease_info_2.txt\n",
            "Saved: disease_info_3.txt\n",
            "Saved: disease_info_4.txt\n",
            "Saved: disease_info_5.txt\n",
            "Saved: disease_info_6.txt\n",
            "Saved: disease_info_7.txt\n",
            "Saved: disease_info_8.txt\n",
            "Saved: disease_info_9.txt\n",
            "Saved: disease_info_10.txt\n",
            "Saved: disease_info_11.txt\n",
            "Saved: disease_info_12.txt\n",
            "Saved: disease_info_13.txt\n",
            "Saved: disease_info_14.txt\n",
            "Saved: disease_info_15.txt\n",
            "Saved: disease_info_16.txt\n",
            "Saved: disease_info_17.txt\n",
            "Saved: disease_info_18.txt\n",
            "Saved: disease_info_19.txt\n",
            "Saved: disease_info_20.txt\n",
            "Saved: disease_info_21.txt\n",
            "Saved: disease_info_22.txt\n",
            "Saved: disease_info_23.txt\n",
            "Saved: disease_info_24.txt\n",
            "Saved: disease_info_25.txt\n",
            "Saved: disease_info_26.txt\n",
            "Saved: disease_info_27.txt\n",
            "Saved: disease_info_28.txt\n",
            "Saved: disease_info_29.txt\n",
            "Saved: disease_info_30.txt\n",
            "Saved: disease_info_31.txt\n",
            "Saved: disease_info_32.txt\n",
            "Saved: disease_info_33.txt\n",
            "Saved: disease_info_34.txt\n",
            "Saved: disease_info_35.txt\n",
            "Saved: disease_info_36.txt\n",
            "Saved: disease_info_37.txt\n",
            "Saved: disease_info_38.txt\n",
            "Saved: disease_info_39.txt\n",
            "Saved: disease_info_40.txt\n",
            "Saved: disease_info_41.txt\n",
            "Saved: disease_info_42.txt\n",
            "Saved: disease_info_43.txt\n",
            "Saved: disease_info_44.txt\n",
            "Saved: disease_info_45.txt\n",
            "Saved: disease_info_46.txt\n",
            "Saved: disease_info_47.txt\n",
            "Saved: disease_info_48.txt\n",
            "Saved: disease_info_49.txt\n",
            "Saved: disease_info_50.txt\n",
            "Saved: disease_info_51.txt\n",
            "Saved: disease_info_52.txt\n",
            "Saved: disease_info_53.txt\n",
            "Saved: disease_info_54.txt\n",
            "Saved: disease_info_55.txt\n",
            "Saved: disease_info_56.txt\n",
            "Saved: disease_info_57.txt\n",
            "Saved: disease_info_58.txt\n",
            "Saved: disease_info_59.txt\n",
            "Saved: disease_info_60.txt\n",
            "Saved: disease_info_61.txt\n"
          ]
        }
      ]
    },
    {
      "cell_type": "code",
      "source": [
        "#Combine the text files to one\n",
        "def combine_txt_files(input_directory):\n",
        "    output_directory = '/content/drive/MyDrive/Medical_Data/Disease'\n",
        "    output_file = os.path.join(output_directory, 'Combined_Disease.txt')\n",
        "\n",
        "    combined_content = []\n",
        "\n",
        "    for filename in os.listdir(input_directory):\n",
        "        if filename.endswith('.txt'):\n",
        "            file_path = os.path.join(input_directory, filename)\n",
        "            with open(file_path, 'r', encoding='utf-8') as file:\n",
        "                combined_content.append(file.read())\n",
        "\n",
        "    with open(output_file, 'w', encoding='utf-8') as outfile:\n",
        "        outfile.write('\\n\\n'.join(combined_content))  #\n",
        "\n",
        "    print(f\"Combined file saved to: {output_file}\")\n",
        "\n",
        "input_directory = '/content/drive/MyDrive/Medical_Data/Disease'\n",
        "combine_txt_files(input_directory)\n"
      ],
      "metadata": {
        "colab": {
          "base_uri": "https://localhost:8080/"
        },
        "id": "blz4zpanx2vr",
        "outputId": "5498fb8e-d2a0-4e3d-ee79-3136b33af9ef"
      },
      "execution_count": 6,
      "outputs": [
        {
          "output_type": "stream",
          "name": "stdout",
          "text": [
            "Combined file saved to: /content/drive/MyDrive/Medical_Data/Disease/Combined_Disease.txt\n"
          ]
        }
      ]
    },
    {
      "cell_type": "code",
      "source": [
        "#Data Pre-Processing\n",
        "def preprocess_text(file_path):\n",
        "    with open(file_path, 'r', encoding='utf-8') as file:\n",
        "        text = file.read()\n",
        "\n",
        "    # Lowercase the text\n",
        "    text = text.lower()\n",
        "\n",
        "    # Remove punctuation\n",
        "    text = text.translate(str.maketrans('', '', string.punctuation))\n",
        "\n",
        "    # Tokenize the text\n",
        "    tokens = word_tokenize(text)\n",
        "\n",
        "    # Remove stop words\n",
        "    stop_words = set(stopwords.words('english'))\n",
        "    filtered_tokens = [word for word in tokens if word not in stop_words]\n",
        "\n",
        "    # Initialize stemmer\n",
        "    stemmer = PorterStemmer()\n",
        "\n",
        "    # Stem the tokens\n",
        "    stemmed_tokens = [stemmer.stem(word) for word in filtered_tokens]\n",
        "\n",
        "    # Join the tokens back into a single string\n",
        "    preprocessed_text = ' '.join(stemmed_tokens)\n",
        "\n",
        "    return preprocessed_text\n",
        "\n",
        "file_path = '/content/drive/MyDrive/Medical_Data/Disease/Combined_Disease.txt'\n",
        "preprocessed_data = preprocess_text(file_path)\n",
        "\n",
        "# Save the preprocessed data to a new file\n",
        "preprocessed_file_path = '/content/drive/MyDrive/Medical_Data/Disease/Preprocessed_Disease.txt'\n",
        "with open(preprocessed_file_path, 'w', encoding='utf-8') as file:\n",
        "    file.write(preprocessed_data)\n",
        "\n",
        "print(f\"Preprocessed data saved to: {preprocessed_file_path}\")"
      ],
      "metadata": {
        "colab": {
          "base_uri": "https://localhost:8080/"
        },
        "id": "U14BvOxz0b8H",
        "outputId": "aef1f390-8c2e-4865-b796-25b2ac6b72a9"
      },
      "execution_count": 7,
      "outputs": [
        {
          "output_type": "stream",
          "name": "stdout",
          "text": [
            "Preprocessed data saved to: /content/drive/MyDrive/Medical_Data/Disease/Preprocessed_Disease.txt\n"
          ]
        }
      ]
    },
    {
      "cell_type": "markdown",
      "source": [
        "Drug Information"
      ],
      "metadata": {
        "id": "phNlLDjUhhSl"
      }
    },
    {
      "cell_type": "markdown",
      "source": [
        "**Analgesics**\n",
        "Acetaminophen (Tylenol)\n",
        "Ibuprofen (Advil, Motrin)\n",
        "Aspirin\n",
        "Naproxen (Aleve)\n",
        "**Antibiotics**\n",
        "Amoxicillin\n",
        "Ciprofloxacin (Cipro)\n",
        "Azithromycin (Zithromax)\n",
        "Cephalexin (Keflex)\n",
        "**Antidepressants**\n",
        "Fluoxetine (Prozac)\n",
        "Sertraline (Zoloft)\n",
        "Escitalopram (Lexapro)\n",
        "Venlafaxine (Effexor)\n",
        "**Antihypertensives**\n",
        "Lisinopril (Prinivil, Zestril)\n",
        "Amlodipine (Norvasc)\n",
        "Losartan (Cozaar)\n",
        "Metoprolol (Lopressor, Toprol-XL)\n",
        "**Antidiabetics**\n",
        "Metformin (Glucophage)\n",
        "Glyburide (Diabeta)\n",
        "Insulin (various forms)\n",
        "Sitagliptin (Januvia)\n",
        "**Antihistamines**\n",
        "Diphenhydramine (Benadryl)\n",
        "Loratadine (Claritin)\n",
        "Cetirizine (Zyrtec)\n",
        "Fexofenadine (Allegra)\n",
        "**Antifungals**\n",
        "Fluconazole (Diflucan)\n",
        "Clotrimazole (Lotrimin)\n",
        "Terbinafine (Lamisil)\n",
        "**Antivirals**\n",
        "Oseltamivir (Tamiflu)\n",
        "Acyclovir (Zovirax)\n",
        "Sofosbuvir (Sovaldi)\n",
        "**Other Common Medications**\n",
        "Omeprazole (Prilosec)\n",
        "Simvastatin (Zocor)\n",
        "Warfarin (Coumadin)\n",
        "Albuterol (Ventolin, ProAir)"
      ],
      "metadata": {
        "id": "uAm7D_l42Uz4"
      }
    },
    {
      "cell_type": "code",
      "source": [
        " drug_urls = [\n",
        "    'https://medlineplus.gov/druginfo/meds/a681004.html',\n",
        "    'https://medlineplus.gov/druginfo/meds/a682159.html',\n",
        "    'https://medlineplus.gov/druginfo/meds/a682878.html#:~:text=Aspirin%20is%20in%20a%20group,and%20cough%20and%20cold%20medications.',\n",
        "    'https://medlineplus.gov/druginfo/meds/a681029.html#:~:text=Nonprescription%20naproxen%20is%20used%20to,class%20of%20medications%20called%20NSAIDs.',\n",
        "    'https://medlineplus.gov/druginfo/meds/a685001.html',\n",
        "    'https://medlineplus.gov/druginfo/meds/a688016.html',\n",
        "    'https://medlineplus.gov/druginfo/meds/a697037.html',\n",
        "    'https://my.clevelandclinic.org/health/drugs/20055-cephalexin-capsules-or-tablets',\n",
        "    'https://medlineplus.gov/druginfo/meds/a689006.html',\n",
        "    'https://my.clevelandclinic.org/health/drugs/20089-sertraline-tablets',\n",
        "    'https://my.clevelandclinic.org/health/drugs/18917-escitalopram-tablets',\n",
        "    'https://my.clevelandclinic.org/health/drugs/20828-venlafaxine-tablets',\n",
        "    'https://medlineplus.gov/druginfo/meds/a692051.html',\n",
        "    'https://medlineplus.gov/druginfo/meds/a692044.html',\n",
        "    'https://medlineplus.gov/druginfo/meds/a695008.html',\n",
        "    'https://medlineplus.gov/druginfo/meds/a682864.html',\n",
        "    'https://my.clevelandclinic.org/health/drugs/20966-metformin-tablets',\n",
        "    'https://medlineplus.gov/druginfo/meds/a684058.html','https://my.clevelandclinic.org/health/body/22601-insulin',\n",
        "    'https://medlineplus.gov/druginfo/meds/a606023.html',\n",
        "    'https://medlineplus.gov/druginfo/meds/a682539.html',\n",
        "    'https://www.rxlist.com/claritin-drug.htm',\n",
        "    'https://my.clevelandclinic.org/health/drugs/19298-cetirizine-tablets',\n",
        "    'https://my.clevelandclinic.org/health/drugs/20104-fexofenadine-capsules-or-tablets',\n",
        "    'https://my.clevelandclinic.org/health/drugs/19527-fluconazole-tablets',\n",
        "    'https://www.mayoclinic.org/drugs-supplements/clotrimazole-topical-route/description/drg-20063212',\n",
        "    'https://my.clevelandclinic.org/health/drugs/19379-terbinafine-tablets',\n",
        "    'https://my.clevelandclinic.org/health/drugs/18630-oseltamivir-capsules',\n",
        "    'https://my.clevelandclinic.org/health/drugs/20037-acyclovir-capsules-or-tablets',\n",
        "    'https://medlineplus.gov/druginfo/meds/a614014.html',\n",
        "    'https://my.clevelandclinic.org/health/drugs/19706-simvastatin-tablets',\n",
        "    'https://my.clevelandclinic.org/health/treatments/16182-warfarin-a-blood-thinning-drug-what-you-need-to-know-',\n",
        "    'https://medlineplus.gov/druginfo/meds/a682145.html'\n",
        "\n",
        "]\n"
      ],
      "metadata": {
        "id": "YKnplWVPhtjV"
      },
      "execution_count": 8,
      "outputs": []
    },
    {
      "cell_type": "code",
      "source": [
        "#Webscrapping the websites\n",
        "drug_directory = '/content/drive/MyDrive/Medical_Data/Drug'\n",
        "os.makedirs(drug_directory, exist_ok=True)\n",
        "\n",
        "def save_text_from_url(url, filename):\n",
        "    try:\n",
        "        response = requests.get(url)\n",
        "        response.raise_for_status()\n",
        "        soup = BeautifulSoup(response.content, 'html.parser')\n",
        "        text = soup.get_text(separator='\\n')\n",
        "        with open(os.path.join(drug_directory, filename), 'w', encoding='utf-8') as f:\n",
        "            f.write(text)\n",
        "\n",
        "        print(f\"Saved: {filename}\")\n",
        "\n",
        "    except Exception as e:\n",
        "        print(f\"Error saving {filename}: {e}\")\n",
        "\n",
        "for i, url in enumerate(drug_urls):\n",
        "    save_text_from_url(url, f'drug_info_{i}.txt')\n"
      ],
      "metadata": {
        "colab": {
          "base_uri": "https://localhost:8080/"
        },
        "id": "W9K25FVt07rr",
        "outputId": "4b49c6c5-c748-4c04-d5ea-d3c9f482116a"
      },
      "execution_count": 9,
      "outputs": [
        {
          "output_type": "stream",
          "name": "stdout",
          "text": [
            "Saved: drug_info_0.txt\n",
            "Saved: drug_info_1.txt\n",
            "Saved: drug_info_2.txt\n",
            "Saved: drug_info_3.txt\n",
            "Saved: drug_info_4.txt\n",
            "Saved: drug_info_5.txt\n",
            "Saved: drug_info_6.txt\n",
            "Saved: drug_info_7.txt\n",
            "Saved: drug_info_8.txt\n",
            "Saved: drug_info_9.txt\n",
            "Saved: drug_info_10.txt\n",
            "Saved: drug_info_11.txt\n",
            "Saved: drug_info_12.txt\n",
            "Saved: drug_info_13.txt\n",
            "Saved: drug_info_14.txt\n",
            "Saved: drug_info_15.txt\n",
            "Saved: drug_info_16.txt\n",
            "Saved: drug_info_17.txt\n",
            "Saved: drug_info_18.txt\n",
            "Saved: drug_info_19.txt\n",
            "Saved: drug_info_20.txt\n",
            "Saved: drug_info_21.txt\n",
            "Saved: drug_info_22.txt\n",
            "Saved: drug_info_23.txt\n",
            "Saved: drug_info_24.txt\n",
            "Saved: drug_info_25.txt\n",
            "Saved: drug_info_26.txt\n",
            "Saved: drug_info_27.txt\n",
            "Saved: drug_info_28.txt\n",
            "Saved: drug_info_29.txt\n",
            "Saved: drug_info_30.txt\n",
            "Saved: drug_info_31.txt\n",
            "Saved: drug_info_32.txt\n"
          ]
        }
      ]
    },
    {
      "cell_type": "code",
      "source": [
        "#Combine the text files to one\n",
        "def combine_txt_files(input_directory):\n",
        "    output_directory = '/content/drive/MyDrive/Medical_Data/Drug'\n",
        "    output_file = os.path.join(output_directory, 'Combined_Drug.txt')\n",
        "\n",
        "    combined_content = []\n",
        "\n",
        "    for filename in os.listdir(input_directory):\n",
        "        if filename.endswith('.txt'):\n",
        "            file_path = os.path.join(input_directory, filename)\n",
        "            with open(file_path, 'r', encoding='utf-8') as file:\n",
        "                combined_content.append(file.read())\n",
        "\n",
        "    with open(output_file, 'w', encoding='utf-8') as outfile:\n",
        "        outfile.write('\\n\\n'.join(combined_content))  #\n",
        "\n",
        "    print(f\"Combined file saved to: {output_file}\")\n",
        "\n",
        "input_directory = '/content/drive/MyDrive/Medical_Data/Drug'\n",
        "combine_txt_files(input_directory)\n"
      ],
      "metadata": {
        "colab": {
          "base_uri": "https://localhost:8080/"
        },
        "id": "GVjJWLZO0-nV",
        "outputId": "088ba436-c861-49e0-8a3e-0f62e09830de"
      },
      "execution_count": 10,
      "outputs": [
        {
          "output_type": "stream",
          "name": "stdout",
          "text": [
            "Combined file saved to: /content/drive/MyDrive/Medical_Data/Drug/Combined_Drug.txt\n"
          ]
        }
      ]
    },
    {
      "cell_type": "code",
      "source": [
        "#Data Pre-Processing\n",
        "def preprocess_text(file_path):\n",
        "    with open(file_path, 'r', encoding='utf-8') as file:\n",
        "        text = file.read()\n",
        "\n",
        "    # Lowercase the text\n",
        "    text = text.lower()\n",
        "\n",
        "    # Remove punctuation\n",
        "    text = text.translate(str.maketrans('', '', string.punctuation))\n",
        "\n",
        "    # Tokenize the text\n",
        "    tokens = word_tokenize(text)\n",
        "\n",
        "    # Remove stop words\n",
        "    stop_words = set(stopwords.words('english'))\n",
        "    filtered_tokens = [word for word in tokens if word not in stop_words]\n",
        "\n",
        "    # Initialize stemmer\n",
        "    stemmer = PorterStemmer()\n",
        "\n",
        "    # Stem the tokens\n",
        "    stemmed_tokens = [stemmer.stem(word) for word in filtered_tokens]\n",
        "\n",
        "    # Join the tokens back into a single string\n",
        "    preprocessed_text = ' '.join(stemmed_tokens)\n",
        "\n",
        "    return preprocessed_text\n",
        "\n",
        "file_path = '/content/drive/MyDrive/Medical_Data/Drug/Combined_Drug.txt'\n",
        "preprocessed_data = preprocess_text(file_path)\n",
        "\n",
        "# Save the preprocessed data to a new file\n",
        "preprocessed_file_path = '/content/drive/MyDrive/Medical_Data/Drug/Preprocessed_Drug.txt'\n",
        "with open(preprocessed_file_path, 'w', encoding='utf-8') as file:\n",
        "    file.write(preprocessed_data)\n",
        "\n",
        "print(f\"Preprocessed data saved to: {preprocessed_file_path}\")"
      ],
      "metadata": {
        "colab": {
          "base_uri": "https://localhost:8080/"
        },
        "id": "YlcfPC-z1ARk",
        "outputId": "fb11aeb5-52f3-41df-93c1-a8a9f25cad25"
      },
      "execution_count": 11,
      "outputs": [
        {
          "output_type": "stream",
          "name": "stdout",
          "text": [
            "Preprocessed data saved to: /content/drive/MyDrive/Medical_Data/Drug/Preprocessed_Drug.txt\n"
          ]
        }
      ]
    },
    {
      "cell_type": "markdown",
      "source": [
        "Research Papers"
      ],
      "metadata": {
        "id": "rTNR69QLhnts"
      }
    },
    {
      "cell_type": "markdown",
      "source": [
        "* The Role of Clinical Decision Support Systems in Enhancing Patient Care\n",
        "* Efficacy of Telehealth in Rural Healthcare Delivery\n",
        "* Advancements in Precision Medicine: Tailoring Treatments to Genetic Profiles\n",
        "* The Impact of Artificial Intelligence on Radiology and Imaging\n",
        "* Challenges and Innovations in Electronic Health Record (EHR) Implementation\n",
        "* The Effectiveness of Mindfulness-Based Interventions in Mental Health\n",
        "* Exploring the Relationship Between Nutrition and Chronic Diseases\n",
        "* The Future of Drug Development: Integrating AI in Clinical Trials\n",
        "* Barriers to Accessing Mental Health Services in Low-Income Communities\n",
        "* The Role of Pharmacogenomics in Personalized Medicine\n",
        "* Emerging Infectious Diseases: Lessons Learned from COVID-19\n",
        "* Patient-Centered Care: Strategies for Improving Healthcare Outcomes\n",
        "* The Importance of Cultural Competence in Healthcare Delivery\n",
        "* Telemedicine's Role in Managing Chronic Conditions\n",
        "* Impact of Health Literacy on Patient Outcomes\n",
        "* The Use of Big Data in Predicting Disease Outbreaks\n",
        "* Innovative Approaches to Pain Management in Chronic Illness\n",
        "* Ethical Implications of Genetic Editing in Human Embryos\n",
        "* The Role of Community Health Workers in Improving Health Disparities\n",
        "* Assessing the Impact of Vaccination Programs on Public Health\n",
        "* Understanding Antimicrobial Resistance: Causes and Solutions\n",
        "* The Influence of Social Determinants on Health Outcomes\n",
        "* Integrative Approaches in Treating Mental Health Disorders\n",
        "* The Effect of Physical Activity on Mental Health and Well-Being\n",
        "* Barriers to Adherence in Chronic Disease Management\n",
        "* The Role of Technology in Enhancing Patient Education\n",
        "* Exploring the Relationship Between Sleep Disorders and Chronic Diseases\n",
        "* Strategies for Managing Diabetes in Diverse Populations\n",
        "* The Use of Mobile Health Apps for Chronic Disease Management\n",
        "* Investigating the Link Between Stress and Immune Response\n",
        "* Telehealth for Pediatric Care: Opportunities and Challenges\n",
        "* The Role of Artificial Intelligence in Diagnosing Rare Diseases\n",
        "* Evaluating the Impact of Mental Health Campaigns on Public Awareness\n",
        "* The Importance of Interprofessional Collaboration in Healthcare\n",
        "* Crisis Management in Healthcare: Lessons from the Pandemic\n",
        "* The Role of Genetics in Cancer Treatment and Prevention\n",
        "* Addressing the Opioid Crisis: Strategies for Prevention and Management\n",
        "* The Evolving Role of Nurses in Patient Education and Advocacy\n",
        "* The Impact of Social Media on Health Communication\n",
        "* Examining the Efficacy of Teletherapy in Treating Anxiety Disorders\n",
        "* Health Systems Strengthening: Strategies for Developing Countries\n",
        "* Patient Safety: Analyzing Error Reporting and Prevention Strategies\n",
        "* The Role of Immunotherapy in Cancer Treatment\n",
        "* Challenges in End-of-Life Care: Palliative vs. Curative Approaches\n",
        "* The Impact of Climate Change on Public Health\n",
        "* Exploring the Role of Virtual Reality in Pain Management\n",
        "* Assessing the Effectiveness of Health Promotion Interventions\n",
        "* The Role of Artificial Intelligence in Mental Health Diagnostics\n",
        "* Patient Privacy and Data Security in Telehealth Services\n",
        "* Investigating the Role of Public Health Campaigns in Smoking Cessation\n",
        "\n"
      ],
      "metadata": {
        "id": "Eydk3_nrLm0z"
      }
    },
    {
      "cell_type": "code",
      "source": [
        "pdf_directory = \"/content/drive/MyDrive/Research\"\n",
        "output_directory = \"/content/drive/MyDrive/Medical_Data/Research_Papers\"\n",
        "\n",
        "os.makedirs(output_directory, exist_ok=True)\n",
        "\n",
        "def convert_pdf_to_text(pdf_path, output_path):\n",
        "    doc = fitz.open(pdf_path)\n",
        "    text = \"\"\n",
        "\n",
        "    for page_num in range(doc.page_count):\n",
        "        page = doc[page_num]\n",
        "        text += page.get_text()\n",
        "\n",
        "    with open(output_path, \"w\", encoding=\"utf-8\") as text_file:\n",
        "        text_file.write(text)\n",
        "\n",
        "for pdf_file in os.listdir(pdf_directory):\n",
        "    if pdf_file.endswith(\".pdf\"):\n",
        "        pdf_path = os.path.join(pdf_directory, pdf_file)\n",
        "        output_path = os.path.join(output_directory, pdf_file.replace(\".pdf\", \".txt\"))\n",
        "        convert_pdf_to_text(pdf_path, output_path)\n",
        "        print(f\"Converted {pdf_file} to text and saved as {output_path}\")\n",
        "\n",
        "print(\"All PDFs have been converted to text files and saved.\")\n"
      ],
      "metadata": {
        "id": "UM3yXfpuhwSC",
        "colab": {
          "base_uri": "https://localhost:8080/"
        },
        "outputId": "b21d9dc2-35c7-4b3d-b86e-722aa4e5ef35"
      },
      "execution_count": 12,
      "outputs": [
        {
          "output_type": "stream",
          "name": "stdout",
          "text": [
            "Converted Investigating the Link Between Stress and Immune Response.pdf to text and saved as /content/drive/MyDrive/Medical_Data/Research_Papers/Investigating the Link Between Stress and Immune Response.txt\n",
            "Converted The Effectiveness of Mindfulness-Based Interventions in Mental Health .pdf to text and saved as /content/drive/MyDrive/Medical_Data/Research_Papers/The Effectiveness of Mindfulness-Based Interventions in Mental Health .txt\n",
            "Converted Virtual_reality_and_pain_management_Current_trends.pdf to text and saved as /content/drive/MyDrive/Medical_Data/Research_Papers/Virtual_reality_and_pain_management_Current_trends.txt\n",
            "Converted Investigating the Role of Public Health Campaigns in Smoking Cessation.pdf to text and saved as /content/drive/MyDrive/Medical_Data/Research_Papers/Investigating the Role of Public Health Campaigns in Smoking Cessation.txt\n",
            "Converted Interprofessional_Team_Collaboration_in2.pdf to text and saved as /content/drive/MyDrive/Medical_Data/Research_Papers/Interprofessional_Team_Collaboration_in2.txt\n",
            "Converted GlobalBiosecurity.pdf to text and saved as /content/drive/MyDrive/Medical_Data/Research_Papers/GlobalBiosecurity.txt\n",
            "Converted 1-s2.0-S2211568419300907-main-2.pdf to text and saved as /content/drive/MyDrive/Medical_Data/Research_Papers/1-s2.0-S2211568419300907-main-2.txt\n",
            "Converted Bookcover.pdf to text and saved as /content/drive/MyDrive/Medical_Data/Research_Papers/Bookcover.txt\n",
            "Converted An-Innovative-Information-and-Communication-Technology-Supported-Approach-Towards-Effective-Chronic-Pain-Management.pdf to text and saved as /content/drive/MyDrive/Medical_Data/Research_Papers/An-Innovative-Information-and-Communication-Technology-Supported-Approach-Towards-Effective-Chronic-Pain-Management.txt\n",
            "Converted Cultural_Competence_in_Healthcare_and_Healthcare_E.pdf to text and saved as /content/drive/MyDrive/Medical_Data/Research_Papers/Cultural_Competence_in_Healthcare_and_Healthcare_E.txt\n",
            "Converted cureus-0015-00000033425.pdf to text and saved as /content/drive/MyDrive/Medical_Data/Research_Papers/cureus-0015-00000033425.txt\n",
            "Converted Lancet20series20on20GMH20-20Article2052023320KB.pdf to text and saved as /content/drive/MyDrive/Medical_Data/Research_Papers/Lancet20series20on20GMH20-20Article2052023320KB.txt\n",
            "Converted 121652-role-of-physical-activity-on-mental-health-and-well-being-a-review.pdf to text and saved as /content/drive/MyDrive/Medical_Data/Research_Papers/121652-role-of-physical-activity-on-mental-health-and-well-being-a-review.txt\n",
            "Converted Telehealth for Pediatric Care- Opportunities and Challenges.pdf to text and saved as /content/drive/MyDrive/Medical_Data/Research_Papers/Telehealth for Pediatric Care- Opportunities and Challenges.txt\n",
            "Converted Relationship_Between_Dietary_Patterns_and_Chronic_.pdf to text and saved as /content/drive/MyDrive/Medical_Data/Research_Papers/Relationship_Between_Dietary_Patterns_and_Chronic_.txt\n",
            "Converted Challenges_to_Electronic_Health_Record_Implementat.pdf to text and saved as /content/drive/MyDrive/Medical_Data/Research_Papers/Challenges_to_Electronic_Health_Record_Implementat.txt\n",
            "Converted Developing_a_mobile_health_app_for_chronic_illness.pdf to text and saved as /content/drive/MyDrive/Medical_Data/Research_Papers/Developing_a_mobile_health_app_for_chronic_illness.txt\n",
            "Converted Ethical Implications of Genetic Editing in Human Embryos.pdf to text and saved as /content/drive/MyDrive/Medical_Data/Research_Papers/Ethical Implications of Genetic Editing in Human Embryos.txt\n",
            "Converted 13584_2021_Article_459.pdf to text and saved as /content/drive/MyDrive/Medical_Data/Research_Papers/13584_2021_Article_459.txt\n",
            "Converted ROJPHM-P6.pdf to text and saved as /content/drive/MyDrive/Medical_Data/Research_Papers/ROJPHM-P6.txt\n",
            "Converted The_Role_of_Big_Data_Technology_in_Predicting_and_.pdf to text and saved as /content/drive/MyDrive/Medical_Data/Research_Papers/The_Role_of_Big_Data_Technology_in_Predicting_and_.txt\n",
            "Converted Chapter_23.docxITNG202118thInternationalConferenceonInformationTechnology-NewGenerations.pdf to text and saved as /content/drive/MyDrive/Medical_Data/Research_Papers/Chapter_23.docxITNG202118thInternationalConferenceonInformationTechnology-NewGenerations.txt\n",
            "Converted alliancehpsr_briefingnote2.pdf to text and saved as /content/drive/MyDrive/Medical_Data/Research_Papers/alliancehpsr_briefingnote2.txt\n",
            "Converted https:pmc.ncbi.nlm.nih.gov:articles:PMC10964781:pdf:ppa-18-733.pdf to text and saved as /content/drive/MyDrive/Medical_Data/Research_Papers/https:pmc.ncbi.nlm.nih.gov:articles:PMC10964781:pdf:ppa-18-733.txt\n",
            "Converted biomedinformatics-04-00079.pdf to text and saved as /content/drive/MyDrive/Medical_Data/Research_Papers/biomedinformatics-04-00079.txt\n",
            "Converted tmj20090107.pdf to text and saved as /content/drive/MyDrive/Medical_Data/Research_Papers/tmj20090107.txt\n",
            "Converted TheImpactofSocialMediaonPublicHealthCommunication.pdf to text and saved as /content/drive/MyDrive/Medical_Data/Research_Papers/TheImpactofSocialMediaonPublicHealthCommunication.txt\n",
            "Converted Understanding Antimicrobial Resistance- Causes and Solutions.pdf to text and saved as /content/drive/MyDrive/Medical_Data/Research_Papers/Understanding Antimicrobial Resistance- Causes and Solutions.txt\n",
            "Converted the_effect_of_clinical_decision_support_systems_on.164.pdf to text and saved as /content/drive/MyDrive/Medical_Data/Research_Papers/the_effect_of_clinical_decision_support_systems_on.164.txt\n",
            "Converted The_Role_of_Artificial_Intelligence_in_Mental_Heal.pdf to text and saved as /content/drive/MyDrive/Medical_Data/Research_Papers/The_Role_of_Artificial_Intelligence_in_Mental_Heal.txt\n",
            "Converted Patient-Centered Care- Strategies for Improving Healthcare Outcomes.pdf to text and saved as /content/drive/MyDrive/Medical_Data/Research_Papers/Patient-Centered Care- Strategies for Improving Healthcare Outcomes.txt\n",
            "Converted Examining the Efficacy of Teletherapy in Treating Anxiety Disorders.pdf to text and saved as /content/drive/MyDrive/Medical_Data/Research_Papers/Examining the Efficacy of Teletherapy in Treating Anxiety Disorders.txt\n",
            "Converted Evaluatingastudent-ledmentalhealthawarenesscampaign.pdf to text and saved as /content/drive/MyDrive/Medical_Data/Research_Papers/Evaluatingastudent-ledmentalhealthawarenesscampaign.txt\n",
            "Converted cancers-14-05205-v2.pdf to text and saved as /content/drive/MyDrive/Medical_Data/Research_Papers/cancers-14-05205-v2.txt\n",
            "Converted Challenges in End-of-Life Care- Palliative vs. Curative Approaches.pdf to text and saved as /content/drive/MyDrive/Medical_Data/Research_Papers/Challenges in End-of-Life Care- Palliative vs. Curative Approaches.txt\n",
            "Converted The Influence of Social Determinants on Health Outcomes.pdf to text and saved as /content/drive/MyDrive/Medical_Data/Research_Papers/The Influence of Social Determinants on Health Outcomes.txt\n",
            "Converted Patient Safety- Analyzing Error Reporting and Prevention Strategies.pdf to text and saved as /content/drive/MyDrive/Medical_Data/Research_Papers/Patient Safety- Analyzing Error Reporting and Prevention Strategies.txt\n",
            "Converted Patient Privacy and Data Security in Telehealth Services.pdf to text and saved as /content/drive/MyDrive/Medical_Data/Research_Papers/Patient Privacy and Data Security in Telehealth Services.txt\n",
            "Converted The Impact of Artificial Intelligence on Radiology and Imaging.pdf to text and saved as /content/drive/MyDrive/Medical_Data/Research_Papers/The Impact of Artificial Intelligence on Radiology and Imaging.txt\n",
            "Converted 28.TheRoleofGeneticResearchinAdvancingCancerTreatmentandPrevention.pdf to text and saved as /content/drive/MyDrive/Medical_Data/Research_Papers/28.TheRoleofGeneticResearchinAdvancingCancerTreatmentandPrevention.txt\n",
            "Converted The Impact of Climate Change on Public Health.pdf to text and saved as /content/drive/MyDrive/Medical_Data/Research_Papers/The Impact of Climate Change on Public Health.txt\n",
            "Converted AddressingtheDiverseNeedsofPatients-ImplementinganIntegrativeApproachtoMentalHealth.pdf to text and saved as /content/drive/MyDrive/Medical_Data/Research_Papers/AddressingtheDiverseNeedsofPatients-ImplementinganIntegrativeApproachtoMentalHealth.txt\n",
            "Converted The_Role_of_Telemedicine_in_the_Management_of_Pati.pdf to text and saved as /content/drive/MyDrive/Medical_Data/Research_Papers/The_Role_of_Telemedicine_in_the_Management_of_Pati.txt\n",
            "Converted 10061-Article Text-25130-1-10-20240420.pdf to text and saved as /content/drive/MyDrive/Medical_Data/Research_Papers/10061-Article Text-25130-1-10-20240420.txt\n",
            "Converted IJMR2015EditorialEvaluatingHealthPromotionInterventions.pdf to text and saved as /content/drive/MyDrive/Medical_Data/Research_Papers/IJMR2015EditorialEvaluatingHealthPromotionInterventions.txt\n",
            "Converted 4.pdf to text and saved as /content/drive/MyDrive/Medical_Data/Research_Papers/4.txt\n",
            "Converted The_Evolving_Role_of_Nurses_in_Patient-Centered_Ca.pdf to text and saved as /content/drive/MyDrive/Medical_Data/Research_Papers/The_Evolving_Role_of_Nurses_in_Patient-Centered_Ca.txt\n",
            "Converted cdc_122282_DS1.pdf to text and saved as /content/drive/MyDrive/Medical_Data/Research_Papers/cdc_122282_DS1.txt\n",
            "Converted TheRoleofPharmacogenomicsinPersonalizedMedicineHistoricalContextPrinciplesApplicationsandFutureChallenges.pdf to text and saved as /content/drive/MyDrive/Medical_Data/Research_Papers/TheRoleofPharmacogenomicsinPersonalizedMedicineHistoricalContextPrinciplesApplicationsandFutureChallenges.txt\n",
            "Converted Sleep_Deprivation_Sleep_Disorders_and_Chronic_Dise.pdf to text and saved as /content/drive/MyDrive/Medical_Data/Research_Papers/Sleep_Deprivation_Sleep_Disorders_and_Chronic_Dise.txt\n",
            "Converted Addressing the Opioid Crisis- Strategies for Prevention and Management.pdf to text and saved as /content/drive/MyDrive/Medical_Data/Research_Papers/Addressing the Opioid Crisis- Strategies for Prevention and Management.txt\n",
            "All PDFs have been converted to text files and saved.\n"
          ]
        }
      ]
    },
    {
      "cell_type": "code",
      "source": [
        "#Combine the text files to one\n",
        "def combine_txt_files(input_directory):\n",
        "    output_directory = '//content/drive/MyDrive/Medical_Data/Research_Papers'\n",
        "    output_file = os.path.join(output_directory, 'Combined_RP.txt')\n",
        "\n",
        "    combined_content = []\n",
        "\n",
        "    for filename in os.listdir(input_directory):\n",
        "        if filename.endswith('.txt'):\n",
        "            file_path = os.path.join(input_directory, filename)\n",
        "            with open(file_path, 'r', encoding='utf-8') as file:\n",
        "                combined_content.append(file.read())\n",
        "\n",
        "    with open(output_file, 'w', encoding='utf-8') as outfile:\n",
        "        outfile.write('\\n\\n'.join(combined_content))  #\n",
        "\n",
        "    print(f\"Combined file saved to: {output_file}\")\n",
        "\n",
        "input_directory = '/content/drive/MyDrive/Medical_Data/Research_Papers'\n",
        "combine_txt_files(input_directory)\n"
      ],
      "metadata": {
        "colab": {
          "base_uri": "https://localhost:8080/"
        },
        "id": "7npdzKSsOKeo",
        "outputId": "8101862e-2fda-454d-832a-5e7880f40560"
      },
      "execution_count": 13,
      "outputs": [
        {
          "output_type": "stream",
          "name": "stdout",
          "text": [
            "Combined file saved to: //content/drive/MyDrive/Medical_Data/Research_Papers/Combined_RP.txt\n"
          ]
        }
      ]
    },
    {
      "cell_type": "code",
      "source": [
        "#Data Pre-Processing\n",
        "def preprocess_text(file_path):\n",
        "    with open(file_path, 'r', encoding='utf-8') as file:\n",
        "        text = file.read()\n",
        "\n",
        "    # Lowercase the text\n",
        "    text = text.lower()\n",
        "\n",
        "    # Remove punctuation\n",
        "    text = text.translate(str.maketrans('', '', string.punctuation))\n",
        "\n",
        "    # Tokenize the text\n",
        "    tokens = word_tokenize(text)\n",
        "\n",
        "    # Remove stop words\n",
        "    stop_words = set(stopwords.words('english'))\n",
        "    filtered_tokens = [word for word in tokens if word not in stop_words]\n",
        "\n",
        "    # Initialize stemmer\n",
        "    stemmer = PorterStemmer()\n",
        "\n",
        "    # Stem the tokens\n",
        "    stemmed_tokens = [stemmer.stem(word) for word in filtered_tokens]\n",
        "\n",
        "    # Join the tokens back into a single string\n",
        "    preprocessed_text = ' '.join(stemmed_tokens)\n",
        "\n",
        "    return preprocessed_text\n",
        "\n",
        "file_path = '/content/drive/MyDrive/Medical_Data/Research_Papers/Combined_RP.txt'\n",
        "preprocessed_data = preprocess_text(file_path)\n",
        "\n",
        "preprocessed_file_path = '/content/drive/MyDrive/Medical_Data/Research_Papers/Preprocessed_RP.txt'\n",
        "with open(preprocessed_file_path, 'w', encoding='utf-8') as file:\n",
        "    file.write(preprocessed_data)\n",
        "\n",
        "print(f\"Preprocessed data saved to: {preprocessed_file_path}\")"
      ],
      "metadata": {
        "colab": {
          "base_uri": "https://localhost:8080/"
        },
        "id": "yTtChnZlOVVG",
        "outputId": "d4c2c696-3e61-4fc9-ef59-2102801f0233"
      },
      "execution_count": 14,
      "outputs": [
        {
          "output_type": "stream",
          "name": "stdout",
          "text": [
            "Preprocessed data saved to: /content/drive/MyDrive/Medical_Data/Research_Papers/Preprocessed_RP.txt\n"
          ]
        }
      ]
    },
    {
      "cell_type": "markdown",
      "source": [
        "WHO Guidelines"
      ],
      "metadata": {
        "id": "z7uXDtMJhqSC"
      }
    },
    {
      "cell_type": "code",
      "source": [
        "guideline_urls = [\n",
        "    'https://www.cigna.com/knowledge-center/preventive-care',\n",
        "    'https://www.who.int/health-topics/vaccines-and-immunization#tab=tab_1',\n",
        "    'https://www.who.int/health-topics/vaccines-and-immunization#tab=tab_2',\n",
        "    'https://www.who.int/health-topics/vaccines-and-immunization#tab=tab_3',\n",
        "    'https://www.ucsfhealth.org/education/healthy-lifestyles-healthy-outlook',\n",
        "    'https://www.cdc.gov/chronic-disease/living-with/index.html',\n",
        "    'https://www.osha.gov/medical-first-aid/recognition',\n",
        "    'https://www.osha.gov/medical-first-aid/programs',\n",
        "    'https://www.who.int/news-room/fact-sheets/detail/cardiovascular-diseases-(cvds)',\n",
        "    'https://www.who.int/southeastasia/activities/management-of-diabetes',\n",
        "    'https://www.who.int/news-room/fact-sheets/detail/diabetes',\n",
        "    'https://www.who.int/health-topics/chronic-respiratory-diseases#tab=tab_2',\n",
        "    'https://www.guidelinecentral.com/guideline/309707/#section-311143',\n",
        "    'https://www.idsociety.org/practice-guideline/covid-19-guideline-treatment-and-management/',\n",
        "    'https://www.cancer.org/cancer/screening/american-cancer-society-guidelines-for-the-early-detection-of-cancer.html',\n",
        "    'https://psychiatryonline.org/books/guidelines',\n",
        "    'https://www.lonestar.edu/21249.htm',\n",
        "    'https://www.mayoclinic.org/healthy-lifestyle/stress-management/in-depth/stress-relievers/art-20047257',\n",
        "    'https://www.cdc.gov/nccdphp/dnpao/features/healthy-eating-tips/index.html',\n",
        "    'https://www.stmaryshealthcaresystem.org/health-and-wellness/nutrition/special-diets',\n",
        "    'https://www.fsis.usda.gov/food-safety/safe-food-handling-and-preparation/food-safety-basics/steps-keep-food-safe',\n",
        "    'https://www.mayoclinic.org/healthy-lifestyle/pregnancy-week-by-week/in-depth/prenatal-care/art-20044882',\n",
        "    'https://choc.org/primary-care/ages-stages/',\n",
        "    'https://www.pennmedicine.org/for-patients-and-visitors/find-a-program-or-service/obstetrics/breastfeeding-services/care-guides/breastfeeding-basics#:~:text=Feeding%20Patterns&text=Breast%20milk%20is%20quickly%20digested,the%20first%20signs%20of%20hunger.',\n",
        "    'https://www.nia.nih.gov/health/caregiving/services-older-adults-living-home',\n",
        "    'https://www.nia.nih.gov/health/brain-health/cognitive-health-and-older-adults#:~:text=Cognitive%20health%20is%20the%20ability,factors%20contribute%20to%20cognitive%20health.'\n",
        "]\n"
      ],
      "metadata": {
        "id": "4_60zD_ohyn7"
      },
      "execution_count": 15,
      "outputs": []
    },
    {
      "cell_type": "code",
      "source": [
        "#Webscrapping the websites\n",
        "drug_directory = '/content/drive/MyDrive/Medical_Data/Guidelines'\n",
        "os.makedirs(drug_directory, exist_ok=True)\n",
        "\n",
        "def save_text_from_url(url, filename):\n",
        "    try:\n",
        "        response = requests.get(url)\n",
        "        response.raise_for_status()\n",
        "        soup = BeautifulSoup(response.content, 'html.parser')\n",
        "        text = soup.get_text(separator='\\n')\n",
        "        with open(os.path.join(drug_directory, filename), 'w', encoding='utf-8') as f:\n",
        "            f.write(text)\n",
        "\n",
        "        print(f\"Saved: {filename}\")\n",
        "\n",
        "    except Exception as e:\n",
        "        print(f\"Error saving {filename}: {e}\")\n",
        "\n",
        "for i, url in enumerate(drug_urls):\n",
        "    save_text_from_url(url, f'guidelines_info_{i}.txt')\n"
      ],
      "metadata": {
        "colab": {
          "base_uri": "https://localhost:8080/"
        },
        "id": "fc2frz7BPWW2",
        "outputId": "afb18c48-4a98-4b8b-ac62-9b78c2e87d41"
      },
      "execution_count": 16,
      "outputs": [
        {
          "output_type": "stream",
          "name": "stdout",
          "text": [
            "Saved: guidelines_info_0.txt\n",
            "Saved: guidelines_info_1.txt\n",
            "Saved: guidelines_info_2.txt\n",
            "Saved: guidelines_info_3.txt\n",
            "Saved: guidelines_info_4.txt\n",
            "Saved: guidelines_info_5.txt\n",
            "Saved: guidelines_info_6.txt\n",
            "Saved: guidelines_info_7.txt\n",
            "Saved: guidelines_info_8.txt\n",
            "Saved: guidelines_info_9.txt\n",
            "Saved: guidelines_info_10.txt\n",
            "Saved: guidelines_info_11.txt\n",
            "Saved: guidelines_info_12.txt\n",
            "Saved: guidelines_info_13.txt\n",
            "Saved: guidelines_info_14.txt\n",
            "Saved: guidelines_info_15.txt\n",
            "Saved: guidelines_info_16.txt\n",
            "Saved: guidelines_info_17.txt\n",
            "Saved: guidelines_info_18.txt\n",
            "Saved: guidelines_info_19.txt\n",
            "Saved: guidelines_info_20.txt\n",
            "Saved: guidelines_info_21.txt\n",
            "Saved: guidelines_info_22.txt\n",
            "Saved: guidelines_info_23.txt\n",
            "Saved: guidelines_info_24.txt\n",
            "Saved: guidelines_info_25.txt\n",
            "Saved: guidelines_info_26.txt\n",
            "Saved: guidelines_info_27.txt\n",
            "Saved: guidelines_info_28.txt\n",
            "Saved: guidelines_info_29.txt\n",
            "Saved: guidelines_info_30.txt\n",
            "Saved: guidelines_info_31.txt\n",
            "Saved: guidelines_info_32.txt\n"
          ]
        }
      ]
    },
    {
      "cell_type": "code",
      "source": [
        "#Combine the text files to one\n",
        "def combine_txt_files(input_directory):\n",
        "    output_directory = '/content/drive/MyDrive/Medical_Data/Guidelines'\n",
        "    output_file = os.path.join(output_directory, 'Combined_Guidelines.txt')\n",
        "\n",
        "    combined_content = []\n",
        "\n",
        "    for filename in os.listdir(input_directory):\n",
        "        if filename.endswith('.txt'):\n",
        "            file_path = os.path.join(input_directory, filename)\n",
        "            with open(file_path, 'r', encoding='utf-8') as file:\n",
        "                combined_content.append(file.read())\n",
        "\n",
        "    with open(output_file, 'w', encoding='utf-8') as outfile:\n",
        "        outfile.write('\\n\\n'.join(combined_content))  #\n",
        "\n",
        "    print(f\"Combined file saved to: {output_file}\")\n",
        "\n",
        "input_directory = '/content/drive/MyDrive/Medical_Data/Guidelines'\n",
        "combine_txt_files(input_directory)\n"
      ],
      "metadata": {
        "colab": {
          "base_uri": "https://localhost:8080/"
        },
        "id": "2o7uB8e4Pfq6",
        "outputId": "cf00cbe7-ec17-4443-cae6-191d65bc3df1"
      },
      "execution_count": 17,
      "outputs": [
        {
          "output_type": "stream",
          "name": "stdout",
          "text": [
            "Combined file saved to: /content/drive/MyDrive/Medical_Data/Guidelines/Combined_Guidelines.txt\n"
          ]
        }
      ]
    },
    {
      "cell_type": "code",
      "source": [
        "#Data Pre-Processing\n",
        "def preprocess_text(file_path):\n",
        "    with open(file_path, 'r', encoding='utf-8') as file:\n",
        "        text = file.read()\n",
        "\n",
        "    # Lowercase the text\n",
        "    text = text.lower()\n",
        "\n",
        "    # Remove punctuation\n",
        "    text = text.translate(str.maketrans('', '', string.punctuation))\n",
        "\n",
        "    # Tokenize the text\n",
        "    tokens = word_tokenize(text)\n",
        "\n",
        "    # Remove stop words\n",
        "    stop_words = set(stopwords.words('english'))\n",
        "    filtered_tokens = [word for word in tokens if word not in stop_words]\n",
        "\n",
        "    # Initialize stemmer\n",
        "    stemmer = PorterStemmer()\n",
        "\n",
        "    # Stem the tokens\n",
        "    stemmed_tokens = [stemmer.stem(word) for word in filtered_tokens]\n",
        "\n",
        "    # Join the tokens back into a single string\n",
        "    preprocessed_text = ' '.join(stemmed_tokens)\n",
        "\n",
        "    return preprocessed_text\n",
        "\n",
        "file_path = '/content/drive/MyDrive/Medical_Data/Guidelines/Combined_Guidelines.txt'\n",
        "preprocessed_data = preprocess_text(file_path)\n",
        "\n",
        "# Save the preprocessed data to a new file\n",
        "preprocessed_file_path = '/content/drive/MyDrive/Medical_Data/Guidelines/Preprocessed_Guidelines.txt'\n",
        "with open(preprocessed_file_path, 'w', encoding='utf-8') as file:\n",
        "    file.write(preprocessed_data)\n",
        "\n",
        "print(f\"Preprocessed data saved to: {preprocessed_file_path}\")"
      ],
      "metadata": {
        "colab": {
          "base_uri": "https://localhost:8080/"
        },
        "id": "ovT0qeb7PoT7",
        "outputId": "93b53385-24aa-4bdb-9854-13d2a8a48a75"
      },
      "execution_count": 18,
      "outputs": [
        {
          "output_type": "stream",
          "name": "stdout",
          "text": [
            "Preprocessed data saved to: /content/drive/MyDrive/Medical_Data/Guidelines/Preprocessed_Guidelines.txt\n"
          ]
        }
      ]
    },
    {
      "cell_type": "markdown",
      "source": [
        "***INDEXING***"
      ],
      "metadata": {
        "id": "ABMYLPQ5VvIT"
      }
    },
    {
      "cell_type": "code",
      "source": [
        "#Sentence Transformer model\n",
        "model = SentenceTransformer('all-MiniLM-L6-v2')\n"
      ],
      "metadata": {
        "colab": {
          "base_uri": "https://localhost:8080/"
        },
        "id": "u0vjXNXjeCdU",
        "outputId": "0055eb26-beff-4ecb-e07d-8b8263b654ba"
      },
      "execution_count": 19,
      "outputs": [
        {
          "output_type": "stream",
          "name": "stderr",
          "text": [
            "/usr/local/lib/python3.10/dist-packages/huggingface_hub/utils/_token.py:89: UserWarning: \n",
            "The secret `HF_TOKEN` does not exist in your Colab secrets.\n",
            "To authenticate with the Hugging Face Hub, create a token in your settings tab (https://huggingface.co/settings/tokens), set it as secret in your Google Colab and restart your session.\n",
            "You will be able to reuse this secret in all of your notebooks.\n",
            "Please note that authentication is recommended but still optional to access public models or datasets.\n",
            "  warnings.warn(\n",
            "/usr/local/lib/python3.10/dist-packages/transformers/tokenization_utils_base.py:1601: FutureWarning: `clean_up_tokenization_spaces` was not set. It will be set to `True` by default. This behavior will be depracted in transformers v4.45, and will be then set to `False` by default. For more details check this issue: https://github.com/huggingface/transformers/issues/31884\n",
            "  warnings.warn(\n"
          ]
        }
      ]
    },
    {
      "cell_type": "code",
      "source": [
        "#Load documents from all specified directories\n",
        "def load_documents_from_multiple_folders(base_directory, sub_folders):\n",
        "    document_contents = []\n",
        "    document_filenames = []\n",
        "    for sub_folder in sub_folders:\n",
        "        folder_path = os.path.join(base_directory, sub_folder)\n",
        "        for filename in os.listdir(folder_path):\n",
        "            if filename.endswith('.txt'):\n",
        "                with open(os.path.join(folder_path, filename), 'r', encoding='utf-8') as file:\n",
        "                    document_contents.append(file.read())\n",
        "                    document_filenames.append(filename)\n",
        "    return document_contents, document_filenames"
      ],
      "metadata": {
        "id": "rsk0aBNXcbC1"
      },
      "execution_count": 20,
      "outputs": []
    },
    {
      "cell_type": "code",
      "source": [
        "#Generate embeddings for your documents\n",
        "def generate_embeddings(documents):\n",
        "    return model.encode(documents, convert_to_tensor=True)"
      ],
      "metadata": {
        "id": "3-tMR1NKce4e"
      },
      "execution_count": 21,
      "outputs": []
    },
    {
      "cell_type": "code",
      "source": [
        "#Create the FAISS index\n",
        "def create_faiss_index(embeddings):\n",
        "    index = faiss.IndexFlatL2(embeddings.shape[1])\n",
        "    index.add(embeddings.cpu().numpy())\n",
        "    return index"
      ],
      "metadata": {
        "id": "mApvZIVXcoQt"
      },
      "execution_count": 22,
      "outputs": []
    },
    {
      "cell_type": "code",
      "source": [
        "base_directory = '/content/drive/My Drive/Medical_Data/'\n",
        "sub_folders = ['Disease', 'Drug', 'Research_Papers', 'Guidelines']"
      ],
      "metadata": {
        "id": "tzAI6JcjcrIA"
      },
      "execution_count": 23,
      "outputs": []
    },
    {
      "cell_type": "code",
      "source": [
        "document_contents, document_filenames = load_documents_from_multiple_folders(base_directory, sub_folders)\n",
        "embeddings = generate_embeddings(document_contents)"
      ],
      "metadata": {
        "id": "2qXr92oSctqq"
      },
      "execution_count": 24,
      "outputs": []
    },
    {
      "cell_type": "code",
      "source": [
        "faiss_index = create_faiss_index(embeddings)"
      ],
      "metadata": {
        "id": "6YiF7wVtfKF7"
      },
      "execution_count": 25,
      "outputs": []
    },
    {
      "cell_type": "code",
      "source": [
        "faiss_index_file_path = '/content/drive/My Drive/Medical_Data/faiss_index.index'\n",
        "faiss.write_index(faiss_index, faiss_index_file_path)\n",
        "print(f\"FAISS index created and saved to: {faiss_index_file_path}\")\n"
      ],
      "metadata": {
        "colab": {
          "base_uri": "https://localhost:8080/"
        },
        "id": "RwrRsvpufOO3",
        "outputId": "0ccb033c-69ff-4c1a-fba7-34765b4773d1"
      },
      "execution_count": 26,
      "outputs": [
        {
          "output_type": "stream",
          "name": "stdout",
          "text": [
            "FAISS index created and saved to: /content/drive/My Drive/Medical_Data/faiss_index.index\n"
          ]
        }
      ]
    },
    {
      "cell_type": "code",
      "source": [
        "index_mapping_file_path = '/content/drive/My Drive/Medical_Data/document_filenames.json'\n",
        "with open(index_mapping_file_path, 'w', encoding='utf-8') as json_file:\n",
        "    json.dump(document_filenames, json_file, ensure_ascii=False, indent=4)\n",
        "print(f\"Document filenames saved to: {index_mapping_file_path}\")\n"
      ],
      "metadata": {
        "colab": {
          "base_uri": "https://localhost:8080/"
        },
        "id": "aHxtdsKyc85A",
        "outputId": "051b5fef-dfae-430d-f4ff-795b2ebed045"
      },
      "execution_count": 27,
      "outputs": [
        {
          "output_type": "stream",
          "name": "stdout",
          "text": [
            "Document filenames saved to: /content/drive/My Drive/Medical_Data/document_filenames.json\n"
          ]
        }
      ]
    }
  ]
}